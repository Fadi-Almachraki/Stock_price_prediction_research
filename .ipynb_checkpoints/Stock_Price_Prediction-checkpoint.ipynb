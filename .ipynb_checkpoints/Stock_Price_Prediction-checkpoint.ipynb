{
 "cells": [
  {
   "cell_type": "markdown",
   "metadata": {},
   "source": [
    "shortcuts:\n",
    "* A\n",
    "* B\n",
    "* Y vs. M (code vs. md)\n",
    "* DD (delete)\n",
    "* L (in code cells)\n",
    "* S (save)\n",
    "* crtl + shift +  P \n",
    "* X (cut), V (paste), shift + V (paste above)"
   ]
  },
  {
   "cell_type": "markdown",
   "metadata": {},
   "source": [
    "# Stock Price Prediction Research\n",
    "\n",
    "## Background\n",
    "The stock market is a vibrant environment of dynamic processes, decisions and outcomes that is packed with complexity and intrigue. Many sub-communities study (academia), and interact with (investors), the stock market to varying degrees. The assumed home for this work will be within the academic community and it will attempt to answer broad questions about how much can we learn about stock price behavior using different machine learning and analysis techniques. The following is a subset of the questions we'll attempt to answer:\n",
    "\n",
    "* How much can we expect to learn about the future of a stock price using its history?\n",
    "* What are the various factors that impact the price of a stock, and to what degrees?\n",
    "* What role does ML play and are certain analysis/prediction approaches more appropriate/suitable for price prediction?\n",
    "* How do we use all the learnings above to begin to design a successful investment strategy?\n",
    "\n"
   ]
  }
 ],
 "metadata": {
  "kernelspec": {
   "display_name": "Python [conda env:py36]",
   "language": "python",
   "name": "conda-env-py36-py"
  },
  "language_info": {
   "codemirror_mode": {
    "name": "ipython",
    "version": 3
   },
   "file_extension": ".py",
   "mimetype": "text/x-python",
   "name": "python",
   "nbconvert_exporter": "python",
   "pygments_lexer": "ipython3",
   "version": "3.6.3"
  }
 },
 "nbformat": 4,
 "nbformat_minor": 2
}
