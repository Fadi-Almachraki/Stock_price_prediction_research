{
 "cells": [
  {
   "cell_type": "markdown",
   "metadata": {},
   "source": [
    "# Stock Price Prediction Research\n",
    "\n",
    "## Background\n",
    "The stock market is a vibrant environment of dynamic processes, decisions and outcomes that is packed with complexity and intrigue. Many sub-communities study (academia), and interact with (investors), the stock market to varying degrees. The assumed home for this work will be within the academic community and it will attempt to answer broad questions about how much can we learn about stock price behavior using different machine learning and analysis techniques. The following is a subset of the questions we'll attempt to answer:\n",
    "\n",
    "* How much can we expect to learn about the future of a stock price using its history?\n",
    "* What are the various factors that impact the price of a stock, and to what degrees?\n",
    "* What role does ML play and are certain analysis/prediction approaches more appropriate/suitable for price prediction?\n",
    "* How do we use all the learnings above to begin to design a successful investment strategy?\n",
    "\n"
   ]
  },
  {
   "cell_type": "code",
   "execution_count": null,
   "metadata": {
    "collapsed": true
   },
   "outputs": [],
   "source": [
    "from pandas_datareader import data\n",
    "import matplotlib.pyplot as plt\n",
    "import pandas as pd\n",
    "\n",
    "# Instruments to download. Apple, Microsoft and the S&P500 index.\n",
    "tickers = ['AAPL', 'MSFT', '^GSPC']\n",
    "\n",
    "# Pull all available data from 01/01/2010 until 12/31/2017.\n",
    "start_date = '2017-12-01'\n",
    "end_date = '2017-12-31'\n",
    "\n",
    "panel_data = data.DataReader('INPX', 'google', start_date, end_date)\n",
    "panel_data.to_frame().head(9)\n",
    "\n"
   ]
  },
  {
   "cell_type": "code",
   "execution_count": null,
   "metadata": {
    "collapsed": true
   },
   "outputs": [],
   "source": [
    "# Getting just the adjusted closing prices. This will return a Pandas DataFrame\n",
    "# The index in this DataFrame is the major index of the panel_data.\n",
    "close = panel_data['Close']\n",
    "\n",
    "# Getting all weekdays within data range\n",
    "all_weekdays = pd.date_range(start=start_date, end=end_date, freq='B')\n",
    "\n",
    "# Reindexing close using all_weekdays as the new index and forward filling\n",
    "close = close.reindex(all_weekdays)\n",
    "close = close.fillna(method='ffill')\n",
    "close.describe()"
   ]
  },
  {
   "cell_type": "code",
   "execution_count": null,
   "metadata": {
    "collapsed": true
   },
   "outputs": [],
   "source": [
    "# Get the MSFT timeseries. This now returns a Pandas Series object indexed by date.\n",
    "msft = close.loc[:, 'MSFT']\n",
    "\n",
    "# Calculate the 20 and 100 days moving averages of the closing prices\n",
    "short_rolling_msft = msft.rolling(window=20).mean()\n",
    "long_rolling_msft = msft.rolling(window=100).mean()\n",
    "\n",
    "# Plot everything by leveraging the very powerful matplotlib package\n",
    "fig, ax = plt.subplots(figsize=(16,9))\n",
    "\n",
    "ax.plot(msft.index, msft, label='MSFT')\n",
    "ax.plot(short_rolling_msft.index, short_rolling_msft, label='20 days rolling')\n",
    "ax.plot(long_rolling_msft.index, long_rolling_msft, label='100 days rolling')\n",
    "\n",
    "ax.set_xlabel('Date')\n",
    "ax.set_ylabel('Adjusted closing price ($)')\n",
    "ax.legend()"
   ]
  }
 ],
 "metadata": {
  "kernelspec": {
   "display_name": "Python [conda env:py36]",
   "language": "python",
   "name": "conda-env-py36-py"
  },
  "language_info": {
   "codemirror_mode": {
    "name": "ipython",
    "version": 3
   },
   "file_extension": ".py",
   "mimetype": "text/x-python",
   "name": "python",
   "nbconvert_exporter": "python",
   "pygments_lexer": "ipython3",
   "version": "3.6.3"
  }
 },
 "nbformat": 4,
 "nbformat_minor": 2
}
